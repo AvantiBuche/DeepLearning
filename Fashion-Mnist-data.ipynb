{
 "cells": [
  {
   "cell_type": "code",
   "execution_count": 1,
   "id": "fd6087ca",
   "metadata": {},
   "outputs": [],
   "source": [
    "# TensorFlow and tf.keras\n",
    "import tensorflow as tf\n",
    "from tensorflow import keras"
   ]
  },
  {
   "cell_type": "code",
   "execution_count": 2,
   "id": "00ab557e",
   "metadata": {
    "scrolled": true
   },
   "outputs": [
    {
     "name": "stdout",
     "output_type": "stream",
     "text": [
      "2.6.2\n",
      "1.19.5\n"
     ]
    }
   ],
   "source": [
    "# Helper libraries\n",
    "import numpy as np\n",
    "import matplotlib.pyplot as plt\n",
    "print(tf.__version__)\n",
    "print(np.__version__)"
   ]
  },
  {
   "cell_type": "code",
   "execution_count": 3,
   "id": "b765bb01",
   "metadata": {},
   "outputs": [],
   "source": [
    "fashion_mnist = keras.datasets.fashion_mnist\n",
    "(train_images, train_labels), (test_images, test_labels) = fashion_mnist.load_data()"
   ]
  },
  {
   "cell_type": "code",
   "execution_count": 4,
   "id": "e1d52c17",
   "metadata": {},
   "outputs": [
    {
     "data": {
      "text/plain": [
       "(60000, 28, 28)"
      ]
     },
     "execution_count": 4,
     "metadata": {},
     "output_type": "execute_result"
    }
   ],
   "source": [
    "train_images.shape"
   ]
  },
  {
   "cell_type": "code",
   "execution_count": 5,
   "id": "bcfe6d1c",
   "metadata": {},
   "outputs": [
    {
     "data": {
      "text/plain": [
       "(10000, 28, 28)"
      ]
     },
     "execution_count": 5,
     "metadata": {},
     "output_type": "execute_result"
    }
   ],
   "source": [
    "test_images.shape"
   ]
  },
  {
   "cell_type": "code",
   "execution_count": 6,
   "id": "74567275",
   "metadata": {},
   "outputs": [
    {
     "data": {
      "text/plain": [
       "array([[  0,   0,   0,   0,   0,   0,   0,   0,   0,   0,   0,   0,   0,\n",
       "          0,   0,   0,   0,   0,   0,   0,   0,   0,   0,   0,   0,   0,\n",
       "          0,   0],\n",
       "       [  0,   0,   0,   0,   0,   0,   0,   0,   0,   0,   0,   0,   0,\n",
       "          0,   0,   0,   0,   0,   0,   0,   0,   0,   0,   0,   0,   0,\n",
       "          0,   0],\n",
       "       [  0,   0,   0,   0,   0,   0,   0,   0,   0,   0,   0,   0,   0,\n",
       "          0,   0,   0,   0,   0,   0,   0,   0,   0,   0,   0,   0,   0,\n",
       "          0,   0],\n",
       "       [  0,   0,   0,   0,   0,   0,   0,   0,   0,   0,   0,   0,   1,\n",
       "          0,   0,  13,  73,   0,   0,   1,   4,   0,   0,   0,   0,   1,\n",
       "          1,   0],\n",
       "       [  0,   0,   0,   0,   0,   0,   0,   0,   0,   0,   0,   0,   3,\n",
       "          0,  36, 136, 127,  62,  54,   0,   0,   0,   1,   3,   4,   0,\n",
       "          0,   3],\n",
       "       [  0,   0,   0,   0,   0,   0,   0,   0,   0,   0,   0,   0,   6,\n",
       "          0, 102, 204, 176, 134, 144, 123,  23,   0,   0,   0,   0,  12,\n",
       "         10,   0],\n",
       "       [  0,   0,   0,   0,   0,   0,   0,   0,   0,   0,   0,   0,   0,\n",
       "          0, 155, 236, 207, 178, 107, 156, 161, 109,  64,  23,  77, 130,\n",
       "         72,  15],\n",
       "       [  0,   0,   0,   0,   0,   0,   0,   0,   0,   0,   0,   1,   0,\n",
       "         69, 207, 223, 218, 216, 216, 163, 127, 121, 122, 146, 141,  88,\n",
       "        172,  66],\n",
       "       [  0,   0,   0,   0,   0,   0,   0,   0,   0,   1,   1,   1,   0,\n",
       "        200, 232, 232, 233, 229, 223, 223, 215, 213, 164, 127, 123, 196,\n",
       "        229,   0],\n",
       "       [  0,   0,   0,   0,   0,   0,   0,   0,   0,   0,   0,   0,   0,\n",
       "        183, 225, 216, 223, 228, 235, 227, 224, 222, 224, 221, 223, 245,\n",
       "        173,   0],\n",
       "       [  0,   0,   0,   0,   0,   0,   0,   0,   0,   0,   0,   0,   0,\n",
       "        193, 228, 218, 213, 198, 180, 212, 210, 211, 213, 223, 220, 243,\n",
       "        202,   0],\n",
       "       [  0,   0,   0,   0,   0,   0,   0,   0,   0,   1,   3,   0,  12,\n",
       "        219, 220, 212, 218, 192, 169, 227, 208, 218, 224, 212, 226, 197,\n",
       "        209,  52],\n",
       "       [  0,   0,   0,   0,   0,   0,   0,   0,   0,   0,   6,   0,  99,\n",
       "        244, 222, 220, 218, 203, 198, 221, 215, 213, 222, 220, 245, 119,\n",
       "        167,  56],\n",
       "       [  0,   0,   0,   0,   0,   0,   0,   0,   0,   4,   0,   0,  55,\n",
       "        236, 228, 230, 228, 240, 232, 213, 218, 223, 234, 217, 217, 209,\n",
       "         92,   0],\n",
       "       [  0,   0,   1,   4,   6,   7,   2,   0,   0,   0,   0,   0, 237,\n",
       "        226, 217, 223, 222, 219, 222, 221, 216, 223, 229, 215, 218, 255,\n",
       "         77,   0],\n",
       "       [  0,   3,   0,   0,   0,   0,   0,   0,   0,  62, 145, 204, 228,\n",
       "        207, 213, 221, 218, 208, 211, 218, 224, 223, 219, 215, 224, 244,\n",
       "        159,   0],\n",
       "       [  0,   0,   0,   0,  18,  44,  82, 107, 189, 228, 220, 222, 217,\n",
       "        226, 200, 205, 211, 230, 224, 234, 176, 188, 250, 248, 233, 238,\n",
       "        215,   0],\n",
       "       [  0,  57, 187, 208, 224, 221, 224, 208, 204, 214, 208, 209, 200,\n",
       "        159, 245, 193, 206, 223, 255, 255, 221, 234, 221, 211, 220, 232,\n",
       "        246,   0],\n",
       "       [  3, 202, 228, 224, 221, 211, 211, 214, 205, 205, 205, 220, 240,\n",
       "         80, 150, 255, 229, 221, 188, 154, 191, 210, 204, 209, 222, 228,\n",
       "        225,   0],\n",
       "       [ 98, 233, 198, 210, 222, 229, 229, 234, 249, 220, 194, 215, 217,\n",
       "        241,  65,  73, 106, 117, 168, 219, 221, 215, 217, 223, 223, 224,\n",
       "        229,  29],\n",
       "       [ 75, 204, 212, 204, 193, 205, 211, 225, 216, 185, 197, 206, 198,\n",
       "        213, 240, 195, 227, 245, 239, 223, 218, 212, 209, 222, 220, 221,\n",
       "        230,  67],\n",
       "       [ 48, 203, 183, 194, 213, 197, 185, 190, 194, 192, 202, 214, 219,\n",
       "        221, 220, 236, 225, 216, 199, 206, 186, 181, 177, 172, 181, 205,\n",
       "        206, 115],\n",
       "       [  0, 122, 219, 193, 179, 171, 183, 196, 204, 210, 213, 207, 211,\n",
       "        210, 200, 196, 194, 191, 195, 191, 198, 192, 176, 156, 167, 177,\n",
       "        210,  92],\n",
       "       [  0,   0,  74, 189, 212, 191, 175, 172, 175, 181, 185, 188, 189,\n",
       "        188, 193, 198, 204, 209, 210, 210, 211, 188, 188, 194, 192, 216,\n",
       "        170,   0],\n",
       "       [  2,   0,   0,   0,  66, 200, 222, 237, 239, 242, 246, 243, 244,\n",
       "        221, 220, 193, 191, 179, 182, 182, 181, 176, 166, 168,  99,  58,\n",
       "          0,   0],\n",
       "       [  0,   0,   0,   0,   0,   0,   0,  40,  61,  44,  72,  41,  35,\n",
       "          0,   0,   0,   0,   0,   0,   0,   0,   0,   0,   0,   0,   0,\n",
       "          0,   0],\n",
       "       [  0,   0,   0,   0,   0,   0,   0,   0,   0,   0,   0,   0,   0,\n",
       "          0,   0,   0,   0,   0,   0,   0,   0,   0,   0,   0,   0,   0,\n",
       "          0,   0],\n",
       "       [  0,   0,   0,   0,   0,   0,   0,   0,   0,   0,   0,   0,   0,\n",
       "          0,   0,   0,   0,   0,   0,   0,   0,   0,   0,   0,   0,   0,\n",
       "          0,   0]], dtype=uint8)"
      ]
     },
     "execution_count": 6,
     "metadata": {},
     "output_type": "execute_result"
    }
   ],
   "source": [
    "train_images[0]"
   ]
  },
  {
   "cell_type": "code",
   "execution_count": 7,
   "id": "2f421bea",
   "metadata": {},
   "outputs": [
    {
     "data": {
      "text/plain": [
       "array([9, 0, 0, ..., 3, 0, 5], dtype=uint8)"
      ]
     },
     "execution_count": 7,
     "metadata": {},
     "output_type": "execute_result"
    }
   ],
   "source": [
    "train_labels"
   ]
  },
  {
   "cell_type": "code",
   "execution_count": 8,
   "id": "1a33d26a",
   "metadata": {},
   "outputs": [
    {
     "data": {
      "image/png": "[encoded data removed]",
      "text/plain": [
       "<Figure size 432x288 with 1 Axes>"
      ]
     },
     "metadata": {},
     "output_type": "display_data"
    }
   ],
   "source": [
    "plt.imshow(train_images[0],cmap='gray_r')\n",
    "plt.title(train_labels[0])\n",
    "plt.xticks([])\n",
    "plt.yticks([])\n",
    "plt.show()"
   ]
  },
  {
   "cell_type": "code",
   "execution_count": 9,
   "id": "f272afb0",
   "metadata": {},
   "outputs": [
    {
     "data": {
      "image/png": "[encoded data removed]",
      "text/plain": [
       "<Figure size 432x288 with 1 Axes>"
      ]
     },
     "metadata": {},
     "output_type": "display_data"
    }
   ],
   "source": [
    "plt.imshow(train_images[2],cmap='gray_r')\n",
    "plt.title(train_labels[2])\n",
    "#plot 2th position data\n",
    "plt.xticks([])\n",
    "plt.yticks([])\n",
    "plt.show()"
   ]
  },
  {
   "cell_type": "code",
   "execution_count": 10,
   "id": "895b41c6",
   "metadata": {},
   "outputs": [],
   "source": [
    "class_names = ['T-shirt/top', 'Trouser', 'Pullover', 'Dress', 'Coat',\n",
    "               'Sandal', 'Shirt', 'Sneaker', 'Bag', 'Ankle boot']\n",
    "#giving the class names"
   ]
  },
  {
   "cell_type": "code",
   "execution_count": 11,
   "id": "fcaa96b9",
   "metadata": {},
   "outputs": [
    {
     "data": {
      "text/plain": [
       "['T-shirt/top',\n",
       " 'Trouser',\n",
       " 'Pullover',\n",
       " 'Dress',\n",
       " 'Coat',\n",
       " 'Sandal',\n",
       " 'Shirt',\n",
       " 'Sneaker',\n",
       " 'Bag',\n",
       " 'Ankle boot']"
      ]
     },
     "execution_count": 11,
     "metadata": {},
     "output_type": "execute_result"
    }
   ],
   "source": [
    "class_names"
   ]
  },
  {
   "cell_type": "code",
   "execution_count": 12,
   "id": "82bf2397",
   "metadata": {},
   "outputs": [
    {
     "data": {
      "text/plain": [
       "'Ankle boot'"
      ]
     },
     "execution_count": 12,
     "metadata": {},
     "output_type": "execute_result"
    }
   ],
   "source": [
    "class_names[9]"
   ]
  },
  {
   "cell_type": "code",
   "execution_count": 13,
   "id": "1ea716dd",
   "metadata": {},
   "outputs": [
    {
     "data": {
      "image/png": "[encoded data removed]",
      "text/plain": [
       "<Figure size 432x288 with 1 Axes>"
      ]
     },
     "metadata": {},
     "output_type": "display_data"
    }
   ],
   "source": [
    "plt.imshow(train_images[2],cmap='gray_r')\n",
    "plt.title(class_names[train_labels[2]])\n",
    "plt.xticks([])\n",
    "plt.yticks([])\n",
    "plt.show()"
   ]
  },
  {
   "cell_type": "code",
   "execution_count": 14,
   "id": "82ab2587",
   "metadata": {},
   "outputs": [
    {
     "data": {
      "text/plain": [
       "0"
      ]
     },
     "execution_count": 14,
     "metadata": {},
     "output_type": "execute_result"
    }
   ],
   "source": [
    "train_labels[2]"
   ]
  },
  {
   "cell_type": "code",
   "execution_count": 15,
   "id": "2c7dfc26",
   "metadata": {},
   "outputs": [
    {
     "data": {
      "text/plain": [
       "'T-shirt/top'"
      ]
     },
     "execution_count": 15,
     "metadata": {},
     "output_type": "execute_result"
    }
   ],
   "source": [
    "class_names[train_labels[2]]"
   ]
  },
  {
   "cell_type": "code",
   "execution_count": 16,
   "id": "194e918c",
   "metadata": {},
   "outputs": [
    {
     "data": {
      "image/png": "[encoded data removed]",
      "text/plain": [
       "<Figure size 720x720 with 25 Axes>"
      ]
     },
     "metadata": {},
     "output_type": "display_data"
    }
   ],
   "source": [
    "#plot 5x5 matrix to EDA - explore data- 551-5525\n",
    "plt.figure(figsize=(10,10))\n",
    "for i in range(25):\n",
    "    plt.subplot(5,5,i+1)\n",
    "    plt.xticks([])\n",
    "    plt.yticks([])\n",
    "    plt.grid(False)\n",
    "    plt.imshow(train_images[i], cmap=plt.cm.binary)\n",
    "    plt.xlabel(class_names[train_labels[i]])\n",
    "plt.tight_layout()\n",
    "plt.show()"
   ]
  },
  {
   "cell_type": "code",
   "execution_count": 17,
   "id": "b7ffc000",
   "metadata": {},
   "outputs": [
    {
     "data": {
      "text/plain": [
       "array([[0.        , 0.        , 0.        , 0.        , 0.        ,\n",
       "        0.        , 0.        , 0.        , 0.        , 0.        ,\n",
       "        0.        , 0.        , 0.        , 0.        , 0.        ,\n",
       "        0.        , 0.        , 0.        , 0.        , 0.        ,\n",
       "        0.        , 0.        , 0.        , 0.        , 0.        ,\n",
       "        0.        , 0.        , 0.        ],\n",
       "       [0.        , 0.        , 0.        , 0.        , 0.        ,\n",
       "        0.        , 0.        , 0.        , 0.        , 0.        ,\n",
       "        0.        , 0.        , 0.        , 0.        , 0.        ,\n",
       "        0.        , 0.        , 0.        , 0.        , 0.        ,\n",
       "        0.        , 0.        , 0.        , 0.        , 0.        ,\n",
       "        0.        , 0.        , 0.        ],\n",
       "       [0.        , 0.        , 0.        , 0.        , 0.        ,\n",
       "        0.        , 0.        , 0.        , 0.        , 0.        ,\n",
       "        0.        , 0.        , 0.        , 0.        , 0.        ,\n",
       "        0.        , 0.        , 0.        , 0.        , 0.        ,\n",
       "        0.        , 0.        , 0.        , 0.        , 0.        ,\n",
       "        0.        , 0.        , 0.        ],\n",
       "       [0.        , 0.        , 0.        , 0.        , 0.        ,\n",
       "        0.        , 0.        , 0.        , 0.        , 0.        ,\n",
       "        0.        , 0.        , 0.00392157, 0.        , 0.        ,\n",
       "        0.05098039, 0.28627451, 0.        , 0.        , 0.00392157,\n",
       "        0.01568627, 0.        , 0.        , 0.        , 0.        ,\n",
       "        0.00392157, 0.00392157, 0.        ],\n",
       "       [0.        , 0.        , 0.        , 0.        , 0.        ,\n",
       "        0.        , 0.        , 0.        , 0.        , 0.        ,\n",
       "        0.        , 0.        , 0.01176471, 0.        , 0.14117647,\n",
       "        0.53333333, 0.49803922, 0.24313725, 0.21176471, 0.        ,\n",
       "        0.        , 0.        , 0.00392157, 0.01176471, 0.01568627,\n",
       "        0.        , 0.        , 0.01176471],\n",
       "       [0.        , 0.        , 0.        , 0.        , 0.        ,\n",
       "        0.        , 0.        , 0.        , 0.        , 0.        ,\n",
       "        0.        , 0.        , 0.02352941, 0.        , 0.4       ,\n",
       "        0.8       , 0.69019608, 0.5254902 , 0.56470588, 0.48235294,\n",
       "        0.09019608, 0.        , 0.        , 0.        , 0.        ,\n",
       "        0.04705882, 0.03921569, 0.        ],\n",
       "       [0.        , 0.        , 0.        , 0.        , 0.        ,\n",
       "        0.        , 0.        , 0.        , 0.        , 0.        ,\n",
       "        0.        , 0.        , 0.        , 0.        , 0.60784314,\n",
       "        0.9254902 , 0.81176471, 0.69803922, 0.41960784, 0.61176471,\n",
       "        0.63137255, 0.42745098, 0.25098039, 0.09019608, 0.30196078,\n",
       "        0.50980392, 0.28235294, 0.05882353],\n",
       "       [0.        , 0.        , 0.        , 0.        , 0.        ,\n",
       "        0.        , 0.        , 0.        , 0.        , 0.        ,\n",
       "        0.        , 0.00392157, 0.        , 0.27058824, 0.81176471,\n",
       "        0.8745098 , 0.85490196, 0.84705882, 0.84705882, 0.63921569,\n",
       "        0.49803922, 0.4745098 , 0.47843137, 0.57254902, 0.55294118,\n",
       "        0.34509804, 0.6745098 , 0.25882353],\n",
       "       [0.        , 0.        , 0.        , 0.        , 0.        ,\n",
       "        0.        , 0.        , 0.        , 0.        , 0.00392157,\n",
       "        0.00392157, 0.00392157, 0.        , 0.78431373, 0.90980392,\n",
       "        0.90980392, 0.91372549, 0.89803922, 0.8745098 , 0.8745098 ,\n",
       "        0.84313725, 0.83529412, 0.64313725, 0.49803922, 0.48235294,\n",
       "        0.76862745, 0.89803922, 0.        ],\n",
       "       [0.        , 0.        , 0.        , 0.        , 0.        ,\n",
       "        0.        , 0.        , 0.        , 0.        , 0.        ,\n",
       "        0.        , 0.        , 0.        , 0.71764706, 0.88235294,\n",
       "        0.84705882, 0.8745098 , 0.89411765, 0.92156863, 0.89019608,\n",
       "        0.87843137, 0.87058824, 0.87843137, 0.86666667, 0.8745098 ,\n",
       "        0.96078431, 0.67843137, 0.        ],\n",
       "       [0.        , 0.        , 0.        , 0.        , 0.        ,\n",
       "        0.        , 0.        , 0.        , 0.        , 0.        ,\n",
       "        0.        , 0.        , 0.        , 0.75686275, 0.89411765,\n",
       "        0.85490196, 0.83529412, 0.77647059, 0.70588235, 0.83137255,\n",
       "        0.82352941, 0.82745098, 0.83529412, 0.8745098 , 0.8627451 ,\n",
       "        0.95294118, 0.79215686, 0.        ],\n",
       "       [0.        , 0.        , 0.        , 0.        , 0.        ,\n",
       "        0.        , 0.        , 0.        , 0.        , 0.00392157,\n",
       "        0.01176471, 0.        , 0.04705882, 0.85882353, 0.8627451 ,\n",
       "        0.83137255, 0.85490196, 0.75294118, 0.6627451 , 0.89019608,\n",
       "        0.81568627, 0.85490196, 0.87843137, 0.83137255, 0.88627451,\n",
       "        0.77254902, 0.81960784, 0.20392157],\n",
       "       [0.        , 0.        , 0.        , 0.        , 0.        ,\n",
       "        0.        , 0.        , 0.        , 0.        , 0.        ,\n",
       "        0.02352941, 0.        , 0.38823529, 0.95686275, 0.87058824,\n",
       "        0.8627451 , 0.85490196, 0.79607843, 0.77647059, 0.86666667,\n",
       "        0.84313725, 0.83529412, 0.87058824, 0.8627451 , 0.96078431,\n",
       "        0.46666667, 0.65490196, 0.21960784],\n",
       "       [0.        , 0.        , 0.        , 0.        , 0.        ,\n",
       "        0.        , 0.        , 0.        , 0.        , 0.01568627,\n",
       "        0.        , 0.        , 0.21568627, 0.9254902 , 0.89411765,\n",
       "        0.90196078, 0.89411765, 0.94117647, 0.90980392, 0.83529412,\n",
       "        0.85490196, 0.8745098 , 0.91764706, 0.85098039, 0.85098039,\n",
       "        0.81960784, 0.36078431, 0.        ],\n",
       "       [0.        , 0.        , 0.00392157, 0.01568627, 0.02352941,\n",
       "        0.02745098, 0.00784314, 0.        , 0.        , 0.        ,\n",
       "        0.        , 0.        , 0.92941176, 0.88627451, 0.85098039,\n",
       "        0.8745098 , 0.87058824, 0.85882353, 0.87058824, 0.86666667,\n",
       "        0.84705882, 0.8745098 , 0.89803922, 0.84313725, 0.85490196,\n",
       "        1.        , 0.30196078, 0.        ],\n",
       "       [0.        , 0.01176471, 0.        , 0.        , 0.        ,\n",
       "        0.        , 0.        , 0.        , 0.        , 0.24313725,\n",
       "        0.56862745, 0.8       , 0.89411765, 0.81176471, 0.83529412,\n",
       "        0.86666667, 0.85490196, 0.81568627, 0.82745098, 0.85490196,\n",
       "        0.87843137, 0.8745098 , 0.85882353, 0.84313725, 0.87843137,\n",
       "        0.95686275, 0.62352941, 0.        ],\n",
       "       [0.        , 0.        , 0.        , 0.        , 0.07058824,\n",
       "        0.17254902, 0.32156863, 0.41960784, 0.74117647, 0.89411765,\n",
       "        0.8627451 , 0.87058824, 0.85098039, 0.88627451, 0.78431373,\n",
       "        0.80392157, 0.82745098, 0.90196078, 0.87843137, 0.91764706,\n",
       "        0.69019608, 0.7372549 , 0.98039216, 0.97254902, 0.91372549,\n",
       "        0.93333333, 0.84313725, 0.        ],\n",
       "       [0.        , 0.22352941, 0.73333333, 0.81568627, 0.87843137,\n",
       "        0.86666667, 0.87843137, 0.81568627, 0.8       , 0.83921569,\n",
       "        0.81568627, 0.81960784, 0.78431373, 0.62352941, 0.96078431,\n",
       "        0.75686275, 0.80784314, 0.8745098 , 1.        , 1.        ,\n",
       "        0.86666667, 0.91764706, 0.86666667, 0.82745098, 0.8627451 ,\n",
       "        0.90980392, 0.96470588, 0.        ],\n",
       "       [0.01176471, 0.79215686, 0.89411765, 0.87843137, 0.86666667,\n",
       "        0.82745098, 0.82745098, 0.83921569, 0.80392157, 0.80392157,\n",
       "        0.80392157, 0.8627451 , 0.94117647, 0.31372549, 0.58823529,\n",
       "        1.        , 0.89803922, 0.86666667, 0.7372549 , 0.60392157,\n",
       "        0.74901961, 0.82352941, 0.8       , 0.81960784, 0.87058824,\n",
       "        0.89411765, 0.88235294, 0.        ],\n",
       "       [0.38431373, 0.91372549, 0.77647059, 0.82352941, 0.87058824,\n",
       "        0.89803922, 0.89803922, 0.91764706, 0.97647059, 0.8627451 ,\n",
       "        0.76078431, 0.84313725, 0.85098039, 0.94509804, 0.25490196,\n",
       "        0.28627451, 0.41568627, 0.45882353, 0.65882353, 0.85882353,\n",
       "        0.86666667, 0.84313725, 0.85098039, 0.8745098 , 0.8745098 ,\n",
       "        0.87843137, 0.89803922, 0.11372549],\n",
       "       [0.29411765, 0.8       , 0.83137255, 0.8       , 0.75686275,\n",
       "        0.80392157, 0.82745098, 0.88235294, 0.84705882, 0.7254902 ,\n",
       "        0.77254902, 0.80784314, 0.77647059, 0.83529412, 0.94117647,\n",
       "        0.76470588, 0.89019608, 0.96078431, 0.9372549 , 0.8745098 ,\n",
       "        0.85490196, 0.83137255, 0.81960784, 0.87058824, 0.8627451 ,\n",
       "        0.86666667, 0.90196078, 0.2627451 ],\n",
       "       [0.18823529, 0.79607843, 0.71764706, 0.76078431, 0.83529412,\n",
       "        0.77254902, 0.7254902 , 0.74509804, 0.76078431, 0.75294118,\n",
       "        0.79215686, 0.83921569, 0.85882353, 0.86666667, 0.8627451 ,\n",
       "        0.9254902 , 0.88235294, 0.84705882, 0.78039216, 0.80784314,\n",
       "        0.72941176, 0.70980392, 0.69411765, 0.6745098 , 0.70980392,\n",
       "        0.80392157, 0.80784314, 0.45098039],\n",
       "       [0.        , 0.47843137, 0.85882353, 0.75686275, 0.70196078,\n",
       "        0.67058824, 0.71764706, 0.76862745, 0.8       , 0.82352941,\n",
       "        0.83529412, 0.81176471, 0.82745098, 0.82352941, 0.78431373,\n",
       "        0.76862745, 0.76078431, 0.74901961, 0.76470588, 0.74901961,\n",
       "        0.77647059, 0.75294118, 0.69019608, 0.61176471, 0.65490196,\n",
       "        0.69411765, 0.82352941, 0.36078431],\n",
       "       [0.        , 0.        , 0.29019608, 0.74117647, 0.83137255,\n",
       "        0.74901961, 0.68627451, 0.6745098 , 0.68627451, 0.70980392,\n",
       "        0.7254902 , 0.7372549 , 0.74117647, 0.7372549 , 0.75686275,\n",
       "        0.77647059, 0.8       , 0.81960784, 0.82352941, 0.82352941,\n",
       "        0.82745098, 0.7372549 , 0.7372549 , 0.76078431, 0.75294118,\n",
       "        0.84705882, 0.66666667, 0.        ],\n",
       "       [0.00784314, 0.        , 0.        , 0.        , 0.25882353,\n",
       "        0.78431373, 0.87058824, 0.92941176, 0.9372549 , 0.94901961,\n",
       "        0.96470588, 0.95294118, 0.95686275, 0.86666667, 0.8627451 ,\n",
       "        0.75686275, 0.74901961, 0.70196078, 0.71372549, 0.71372549,\n",
       "        0.70980392, 0.69019608, 0.65098039, 0.65882353, 0.38823529,\n",
       "        0.22745098, 0.        , 0.        ],\n",
       "       [0.        , 0.        , 0.        , 0.        , 0.        ,\n",
       "        0.        , 0.        , 0.15686275, 0.23921569, 0.17254902,\n",
       "        0.28235294, 0.16078431, 0.1372549 , 0.        , 0.        ,\n",
       "        0.        , 0.        , 0.        , 0.        , 0.        ,\n",
       "        0.        , 0.        , 0.        , 0.        , 0.        ,\n",
       "        0.        , 0.        , 0.        ],\n",
       "       [0.        , 0.        , 0.        , 0.        , 0.        ,\n",
       "        0.        , 0.        , 0.        , 0.        , 0.        ,\n",
       "        0.        , 0.        , 0.        , 0.        , 0.        ,\n",
       "        0.        , 0.        , 0.        , 0.        , 0.        ,\n",
       "        0.        , 0.        , 0.        , 0.        , 0.        ,\n",
       "        0.        , 0.        , 0.        ],\n",
       "       [0.        , 0.        , 0.        , 0.        , 0.        ,\n",
       "        0.        , 0.        , 0.        , 0.        , 0.        ,\n",
       "        0.        , 0.        , 0.        , 0.        , 0.        ,\n",
       "        0.        , 0.        , 0.        , 0.        , 0.        ,\n",
       "        0.        , 0.        , 0.        , 0.        , 0.        ,\n",
       "        0.        , 0.        , 0.        ]])"
      ]
     },
     "execution_count": 17,
     "metadata": {},
     "output_type": "execute_result"
    }
   ],
   "source": [
    "#transfer image data to 0-1 format\n",
    "train_images = train_images / 255.0\n",
    "test_images = test_images / 255.0\n",
    "train_images[0]"
   ]
  },
  {
   "cell_type": "code",
   "execution_count": 18,
   "id": "dbbb7de9",
   "metadata": {},
   "outputs": [],
   "source": [
    "#create model\n",
    "#this is another syntax if keras is not imported\n",
    "#keras files are already added in tensorflow\n",
    "model = keras.Sequential([\n",
    "    keras.layers.Flatten(input_shape=(28, 28)),\n",
    "    keras.layers.Dense(512, activation='relu'),\n",
    "    keras.layers.Dense(10,'softmax')])"
   ]
  },
  {
   "cell_type": "code",
   "execution_count": 19,
   "id": "eaba0868",
   "metadata": {
    "scrolled": true
   },
   "outputs": [
    {
     "name": "stdout",
     "output_type": "stream",
     "text": [
      "Model: \"sequential\"\n",
      "_________________________________________________________________\n",
      "Layer (type)                 Output Shape              Param #   \n",
      "=================================================================\n",
      "flatten (Flatten)            (None, 784)               0         \n",
      "_________________________________________________________________\n",
      "dense (Dense)                (None, 512)               401920    \n",
      "_________________________________________________________________\n",
      "dense_1 (Dense)              (None, 10)                5130      \n",
      "=================================================================\n",
      "Total params: 407,050\n",
      "Trainable params: 407,050\n",
      "Non-trainable params: 0\n",
      "_________________________________________________________________\n"
     ]
    }
   ],
   "source": [
    "model.summary()"
   ]
  },
  {
   "cell_type": "code",
   "execution_count": 20,
   "id": "56424888",
   "metadata": {},
   "outputs": [],
   "source": [
    "model.compile(optimizer='adam',loss='sparse_categorical_crossentropy',metrics=['accuracy'])"
   ]
  },
  {
   "cell_type": "code",
   "execution_count": 21,
   "id": "e0795360",
   "metadata": {},
   "outputs": [
    {
     "name": "stdout",
     "output_type": "stream",
     "text": [
      "Epoch 1/50\n",
      "1500/1500 [==============================] - 12s 6ms/step - loss: 0.4902 - accuracy: 0.8248 - val_loss: 0.3944 - val_accuracy: 0.8563\n",
      "Epoch 2/50\n",
      "1500/1500 [==============================] - 9s 6ms/step - loss: 0.3678 - accuracy: 0.8669 - val_loss: 0.3643 - val_accuracy: 0.8683\n",
      "Epoch 3/50\n",
      "1500/1500 [==============================] - 9s 6ms/step - loss: 0.3312 - accuracy: 0.8772 - val_loss: 0.3407 - val_accuracy: 0.8766\n",
      "Epoch 4/50\n",
      "1500/1500 [==============================] - 8s 5ms/step - loss: 0.3058 - accuracy: 0.8870 - val_loss: 0.3152 - val_accuracy: 0.8856\n",
      "Epoch 5/50\n",
      "1500/1500 [==============================] - 7s 5ms/step - loss: 0.2859 - accuracy: 0.8930 - val_loss: 0.3327 - val_accuracy: 0.8832\n",
      "Epoch 6/50\n",
      "1500/1500 [==============================] - 7s 5ms/step - loss: 0.2691 - accuracy: 0.8995 - val_loss: 0.3250 - val_accuracy: 0.8859\n",
      "Epoch 7/50\n",
      "1500/1500 [==============================] - 7s 5ms/step - loss: 0.2543 - accuracy: 0.9050 - val_loss: 0.3315 - val_accuracy: 0.8824\n",
      "Epoch 8/50\n",
      "1500/1500 [==============================] - 8s 5ms/step - loss: 0.2447 - accuracy: 0.9085 - val_loss: 0.3349 - val_accuracy: 0.8806\n",
      "Epoch 9/50\n",
      "1500/1500 [==============================] - 8s 5ms/step - loss: 0.2340 - accuracy: 0.9127 - val_loss: 0.3259 - val_accuracy: 0.88983 - accu\n",
      "Epoch 10/50\n",
      "1500/1500 [==============================] - 8s 5ms/step - loss: 0.2235 - accuracy: 0.9160 - val_loss: 0.3138 - val_accuracy: 0.8928\n",
      "Epoch 11/50\n",
      "1500/1500 [==============================] - 7s 5ms/step - loss: 0.2153 - accuracy: 0.9193 - val_loss: 0.3086 - val_accuracy: 0.8920\n",
      "Epoch 12/50\n",
      "1500/1500 [==============================] - 7s 5ms/step - loss: 0.2052 - accuracy: 0.9227 - val_loss: 0.3262 - val_accuracy: 0.8886\n",
      "Epoch 13/50\n",
      "1500/1500 [==============================] - 8s 5ms/step - loss: 0.2012 - accuracy: 0.9238 - val_loss: 0.3118 - val_accuracy: 0.8920\n",
      "Epoch 14/50\n",
      "1500/1500 [==============================] - 7s 5ms/step - loss: 0.1905 - accuracy: 0.9295 - val_loss: 0.3182 - val_accuracy: 0.8942\n",
      "Epoch 15/50\n",
      "1500/1500 [==============================] - 8s 5ms/step - loss: 0.1852 - accuracy: 0.9311 - val_loss: 0.3178 - val_accuracy: 0.8948\n",
      "Epoch 16/50\n",
      "1500/1500 [==============================] - 7s 5ms/step - loss: 0.1781 - accuracy: 0.9327 - val_loss: 0.3241 - val_accuracy: 0.8938\n",
      "Epoch 17/50\n",
      "1500/1500 [==============================] - 8s 5ms/step - loss: 0.1740 - accuracy: 0.9345 - val_loss: 0.3643 - val_accuracy: 0.8869\n",
      "Epoch 18/50\n",
      "1500/1500 [==============================] - 7s 5ms/step - loss: 0.1685 - accuracy: 0.9363 - val_loss: 0.3472 - val_accuracy: 0.8926\n",
      "Epoch 19/50\n",
      "1500/1500 [==============================] - 8s 5ms/step - loss: 0.1607 - accuracy: 0.9391 - val_loss: 0.3302 - val_accuracy: 0.8954\n",
      "Epoch 20/50\n",
      "1500/1500 [==============================] - 7s 5ms/step - loss: 0.1586 - accuracy: 0.9409 - val_loss: 0.3455 - val_accuracy: 0.8951\n",
      "Epoch 21/50\n",
      "1500/1500 [==============================] - 8s 5ms/step - loss: 0.1538 - accuracy: 0.9420 - val_loss: 0.3932 - val_accuracy: 0.8841\n",
      "Epoch 22/50\n",
      "1500/1500 [==============================] - 7s 5ms/step - loss: 0.1454 - accuracy: 0.9459 - val_loss: 0.3505 - val_accuracy: 0.8947\n",
      "Epoch 23/50\n",
      "1500/1500 [==============================] - 7s 5ms/step - loss: 0.1439 - accuracy: 0.9462 - val_loss: 0.3781 - val_accuracy: 0.8916\n",
      "Epoch 24/50\n",
      "1500/1500 [==============================] - 7s 5ms/step - loss: 0.1392 - accuracy: 0.9476 - val_loss: 0.3722 - val_accuracy: 0.8923\n",
      "Epoch 25/50\n",
      "1500/1500 [==============================] - 7s 5ms/step - loss: 0.1330 - accuracy: 0.9505 - val_loss: 0.3639 - val_accuracy: 0.8956\n",
      "Epoch 26/50\n",
      "1500/1500 [==============================] - 8s 5ms/step - loss: 0.1307 - accuracy: 0.9502 - val_loss: 0.4010 - val_accuracy: 0.8897\n",
      "Epoch 27/50\n",
      "1500/1500 [==============================] - 7s 5ms/step - loss: 0.1276 - accuracy: 0.9525 - val_loss: 0.3675 - val_accuracy: 0.8948\n",
      "Epoch 28/50\n",
      "1500/1500 [==============================] - 8s 5ms/step - loss: 0.1240 - accuracy: 0.9534 - val_loss: 0.4354 - val_accuracy: 0.8849\n",
      "Epoch 29/50\n",
      "1500/1500 [==============================] - 7s 5ms/step - loss: 0.1213 - accuracy: 0.9547 - val_loss: 0.4051 - val_accuracy: 0.8959\n",
      "Epoch 30/50\n",
      "1500/1500 [==============================] - 8s 5ms/step - loss: 0.1161 - accuracy: 0.9570 - val_loss: 0.4118 - val_accuracy: 0.8933\n",
      "Epoch 31/50\n",
      "1500/1500 [==============================] - 7s 5ms/step - loss: 0.1145 - accuracy: 0.9576 - val_loss: 0.4223 - val_accuracy: 0.8947\n",
      "Epoch 32/50\n",
      "1500/1500 [==============================] - 8s 5ms/step - loss: 0.1147 - accuracy: 0.9568 - val_loss: 0.4271 - val_accuracy: 0.8926\n",
      "Epoch 33/50\n",
      "1500/1500 [==============================] - 7s 5ms/step - loss: 0.1118 - accuracy: 0.9577 - val_loss: 0.4191 - val_accuracy: 0.8909\n",
      "Epoch 34/50\n",
      "1500/1500 [==============================] - 8s 5ms/step - loss: 0.1073 - accuracy: 0.9592 - val_loss: 0.4632 - val_accuracy: 0.8912\n",
      "Epoch 35/50\n",
      "1500/1500 [==============================] - 7s 5ms/step - loss: 0.1052 - accuracy: 0.9606 - val_loss: 0.4525 - val_accuracy: 0.8921\n",
      "Epoch 36/50\n",
      "1500/1500 [==============================] - 8s 5ms/step - loss: 0.1025 - accuracy: 0.9613 - val_loss: 0.4655 - val_accuracy: 0.8935\n",
      "Epoch 37/50\n",
      "1500/1500 [==============================] - 8s 5ms/step - loss: 0.0970 - accuracy: 0.9632 - val_loss: 0.4615 - val_accuracy: 0.8941\n",
      "Epoch 38/50\n",
      "1500/1500 [==============================] - 7s 5ms/step - loss: 0.0979 - accuracy: 0.9628 - val_loss: 0.4736 - val_accuracy: 0.8947\n",
      "Epoch 39/50\n",
      "1500/1500 [==============================] - 8s 5ms/step - loss: 0.0971 - accuracy: 0.9646 - val_loss: 0.4530 - val_accuracy: 0.8967\n",
      "Epoch 40/50\n",
      "1500/1500 [==============================] - 7s 5ms/step - loss: 0.0904 - accuracy: 0.9672 - val_loss: 0.4946 - val_accuracy: 0.8917\n",
      "Epoch 41/50\n",
      "1500/1500 [==============================] - 8s 5ms/step - loss: 0.0941 - accuracy: 0.9650 - val_loss: 0.4729 - val_accuracy: 0.8946\n",
      "Epoch 42/50\n",
      "1500/1500 [==============================] - 7s 5ms/step - loss: 0.0883 - accuracy: 0.9676 - val_loss: 0.5080 - val_accuracy: 0.8877\n",
      "Epoch 43/50\n",
      "1500/1500 [==============================] - 8s 5ms/step - loss: 0.0867 - accuracy: 0.9671 - val_loss: 0.4906 - val_accuracy: 0.8928\n",
      "Epoch 44/50\n",
      "1500/1500 [==============================] - 7s 5ms/step - loss: 0.0865 - accuracy: 0.9682 - val_loss: 0.4742 - val_accuracy: 0.8938\n",
      "Epoch 45/50\n",
      "1500/1500 [==============================] - 8s 5ms/step - loss: 0.0834 - accuracy: 0.9690 - val_loss: 0.5202 - val_accuracy: 0.8873\n",
      "Epoch 46/50\n",
      "1500/1500 [==============================] - 7s 5ms/step - loss: 0.0827 - accuracy: 0.9692 - val_loss: 0.5160 - val_accuracy: 0.8923\n",
      "Epoch 47/50\n",
      "1500/1500 [==============================] - 8s 5ms/step - loss: 0.0770 - accuracy: 0.9714 - val_loss: 0.5421 - val_accuracy: 0.8874\n",
      "Epoch 48/50\n",
      "1500/1500 [==============================] - 7s 5ms/step - loss: 0.0785 - accuracy: 0.9705 - val_loss: 0.5113 - val_accuracy: 0.8965\n",
      "Epoch 49/50\n",
      "1500/1500 [==============================] - 8s 5ms/step - loss: 0.0757 - accuracy: 0.9720 - val_loss: 0.5136 - val_accuracy: 0.8960\n",
      "Epoch 50/50\n",
      "1500/1500 [==============================] - 7s 5ms/step - loss: 0.0756 - accuracy: 0.9711 - val_loss: 0.5453 - val_accuracy: 0.8944\n"
     ]
    }
   ],
   "source": [
    "history = model.fit(train_images, train_labels,validation_split=0.2, epochs=50,verbose=1)\n",
    "#validation_split will split test data in 20% to validate data\n",
    "#It will also show the test/validation loss and accuracy along with train data\n",
    "#verbose-0,1,2 is to display different output \n",
    "#store the values in history variable"
   ]
  },
  {
   "cell_type": "code",
   "execution_count": 22,
   "id": "e424b353",
   "metadata": {},
   "outputs": [
    {
     "data": {
      "text/plain": [
       "{'loss': [0.4902162551879883,\n",
       "  0.36775073409080505,\n",
       "  0.3311755657196045,\n",
       "  0.30581116676330566,\n",
       "  0.2859363257884979,\n",
       "  0.26907697319984436,\n",
       "  0.2543112635612488,\n",
       "  0.2447354942560196,\n",
       "  0.23404034972190857,\n",
       "  0.2235298603773117,\n",
       "  0.21529622375965118,\n",
       "  0.20522408187389374,\n",
       "  0.2012244611978531,\n",
       "  0.19045862555503845,\n",
       "  0.18516767024993896,\n",
       "  0.17809686064720154,\n",
       "  0.17404407262802124,\n",
       "  0.16852064430713654,\n",
       "  0.16073644161224365,\n",
       "  0.15861743688583374,\n",
       "  0.1537613421678543,\n",
       "  0.1454397737979889,\n",
       "  0.14390450716018677,\n",
       "  0.13915562629699707,\n",
       "  0.13295534253120422,\n",
       "  0.13070644438266754,\n",
       "  0.12763133645057678,\n",
       "  0.12396225333213806,\n",
       "  0.12132410705089569,\n",
       "  0.11610058695077896,\n",
       "  0.11449242383241653,\n",
       "  0.11474371701478958,\n",
       "  0.11178572475910187,\n",
       "  0.1073395162820816,\n",
       "  0.10521238297224045,\n",
       "  0.10253627598285675,\n",
       "  0.09697659313678741,\n",
       "  0.09785860031843185,\n",
       "  0.09710796177387238,\n",
       "  0.09038443118333817,\n",
       "  0.09414578229188919,\n",
       "  0.08832632750272751,\n",
       "  0.0867086872458458,\n",
       "  0.08645697683095932,\n",
       "  0.08343483507633209,\n",
       "  0.08266308903694153,\n",
       "  0.0770239606499672,\n",
       "  0.0785403773188591,\n",
       "  0.07568706572055817,\n",
       "  0.07558971643447876],\n",
       " 'accuracy': [0.824791669845581,\n",
       "  0.866854190826416,\n",
       "  0.8771874904632568,\n",
       "  0.8869791626930237,\n",
       "  0.8930416703224182,\n",
       "  0.8994583487510681,\n",
       "  0.9050208330154419,\n",
       "  0.9085208177566528,\n",
       "  0.9126666784286499,\n",
       "  0.9159791469573975,\n",
       "  0.9192500114440918,\n",
       "  0.9227291941642761,\n",
       "  0.9237708449363708,\n",
       "  0.9294999837875366,\n",
       "  0.9311249852180481,\n",
       "  0.9326666593551636,\n",
       "  0.9344791769981384,\n",
       "  0.9363333582878113,\n",
       "  0.9390833377838135,\n",
       "  0.9409166574478149,\n",
       "  0.941979169845581,\n",
       "  0.9458958506584167,\n",
       "  0.9461874961853027,\n",
       "  0.9476041793823242,\n",
       "  0.9505000114440918,\n",
       "  0.950166642665863,\n",
       "  0.9525208473205566,\n",
       "  0.9534375071525574,\n",
       "  0.9546666741371155,\n",
       "  0.9570208191871643,\n",
       "  0.9575833082199097,\n",
       "  0.9568125009536743,\n",
       "  0.957729160785675,\n",
       "  0.9592499732971191,\n",
       "  0.960604190826416,\n",
       "  0.9612916707992554,\n",
       "  0.9631875157356262,\n",
       "  0.9627708196640015,\n",
       "  0.9645833373069763,\n",
       "  0.9671875238418579,\n",
       "  0.9649999737739563,\n",
       "  0.9676250219345093,\n",
       "  0.9670833349227905,\n",
       "  0.9682291746139526,\n",
       "  0.9690208435058594,\n",
       "  0.9691666960716248,\n",
       "  0.9713541865348816,\n",
       "  0.9705208539962769,\n",
       "  0.9720208048820496,\n",
       "  0.9710833430290222],\n",
       " 'val_loss': [0.39440953731536865,\n",
       "  0.3642757833003998,\n",
       "  0.34068968892097473,\n",
       "  0.3152059316635132,\n",
       "  0.3327105641365051,\n",
       "  0.3249673843383789,\n",
       "  0.331510454416275,\n",
       "  0.3349474370479584,\n",
       "  0.3259434700012207,\n",
       "  0.31376662850379944,\n",
       "  0.30862492322921753,\n",
       "  0.32616889476776123,\n",
       "  0.31180620193481445,\n",
       "  0.31824788451194763,\n",
       "  0.3177567422389984,\n",
       "  0.32410022616386414,\n",
       "  0.3642931580543518,\n",
       "  0.3471965193748474,\n",
       "  0.33015990257263184,\n",
       "  0.34553661942481995,\n",
       "  0.39315274357795715,\n",
       "  0.3504527509212494,\n",
       "  0.37807992100715637,\n",
       "  0.3721713125705719,\n",
       "  0.3639373779296875,\n",
       "  0.40102165937423706,\n",
       "  0.36745503544807434,\n",
       "  0.43543270230293274,\n",
       "  0.4050540626049042,\n",
       "  0.4118247330188751,\n",
       "  0.4222692847251892,\n",
       "  0.42706945538520813,\n",
       "  0.4190734922885895,\n",
       "  0.46323010325431824,\n",
       "  0.4524783790111542,\n",
       "  0.4654849171638489,\n",
       "  0.4614913761615753,\n",
       "  0.47356298565864563,\n",
       "  0.452998548746109,\n",
       "  0.4946029782295227,\n",
       "  0.4729343354701996,\n",
       "  0.5080385208129883,\n",
       "  0.4906126856803894,\n",
       "  0.47424212098121643,\n",
       "  0.5202041268348694,\n",
       "  0.5160152316093445,\n",
       "  0.5420870184898376,\n",
       "  0.5112874507904053,\n",
       "  0.5136414766311646,\n",
       "  0.5452685356140137],\n",
       " 'val_accuracy': [0.856333315372467,\n",
       "  0.8682500123977661,\n",
       "  0.8765833377838135,\n",
       "  0.8855833411216736,\n",
       "  0.8831666707992554,\n",
       "  0.8859166502952576,\n",
       "  0.8824166655540466,\n",
       "  0.8805833458900452,\n",
       "  0.8897500038146973,\n",
       "  0.8928333520889282,\n",
       "  0.8920000195503235,\n",
       "  0.8885833621025085,\n",
       "  0.8920000195503235,\n",
       "  0.8941666483879089,\n",
       "  0.8948333263397217,\n",
       "  0.893833339214325,\n",
       "  0.8869166374206543,\n",
       "  0.8925833106040955,\n",
       "  0.8954166769981384,\n",
       "  0.8950833082199097,\n",
       "  0.8840833306312561,\n",
       "  0.8947499990463257,\n",
       "  0.8915833234786987,\n",
       "  0.8923333287239075,\n",
       "  0.8955833315849304,\n",
       "  0.8896666765213013,\n",
       "  0.8948333263397217,\n",
       "  0.8849166631698608,\n",
       "  0.8959166407585144,\n",
       "  0.8933333158493042,\n",
       "  0.8946666717529297,\n",
       "  0.8925833106040955,\n",
       "  0.890916645526886,\n",
       "  0.8911666870117188,\n",
       "  0.8920833468437195,\n",
       "  0.8934999704360962,\n",
       "  0.8940833210945129,\n",
       "  0.8946666717529297,\n",
       "  0.8967499732971191,\n",
       "  0.8916666507720947,\n",
       "  0.8945833444595337,\n",
       "  0.887666642665863,\n",
       "  0.8928333520889282,\n",
       "  0.893833339214325,\n",
       "  0.887333333492279,\n",
       "  0.8922500014305115,\n",
       "  0.887416660785675,\n",
       "  0.8964999914169312,\n",
       "  0.8960000276565552,\n",
       "  0.8944166898727417]}"
      ]
     },
     "execution_count": 22,
     "metadata": {},
     "output_type": "execute_result"
    }
   ],
   "source": [
    "#.history will give the data set which is stored as dictionary\n",
    "#the keys are loss, accuracy, val_loss, val_accuracy\n",
    "history.history"
   ]
  },
  {
   "cell_type": "code",
   "execution_count": 23,
   "id": "835d3d54",
   "metadata": {},
   "outputs": [
    {
     "data": {
      "text/plain": [
       "[0.4902162551879883,\n",
       " 0.36775073409080505,\n",
       " 0.3311755657196045,\n",
       " 0.30581116676330566,\n",
       " 0.2859363257884979,\n",
       " 0.26907697319984436,\n",
       " 0.2543112635612488,\n",
       " 0.2447354942560196,\n",
       " 0.23404034972190857,\n",
       " 0.2235298603773117,\n",
       " 0.21529622375965118,\n",
       " 0.20522408187389374,\n",
       " 0.2012244611978531,\n",
       " 0.19045862555503845,\n",
       " 0.18516767024993896,\n",
       " 0.17809686064720154,\n",
       " 0.17404407262802124,\n",
       " 0.16852064430713654,\n",
       " 0.16073644161224365,\n",
       " 0.15861743688583374,\n",
       " 0.1537613421678543,\n",
       " 0.1454397737979889,\n",
       " 0.14390450716018677,\n",
       " 0.13915562629699707,\n",
       " 0.13295534253120422,\n",
       " 0.13070644438266754,\n",
       " 0.12763133645057678,\n",
       " 0.12396225333213806,\n",
       " 0.12132410705089569,\n",
       " 0.11610058695077896,\n",
       " 0.11449242383241653,\n",
       " 0.11474371701478958,\n",
       " 0.11178572475910187,\n",
       " 0.1073395162820816,\n",
       " 0.10521238297224045,\n",
       " 0.10253627598285675,\n",
       " 0.09697659313678741,\n",
       " 0.09785860031843185,\n",
       " 0.09710796177387238,\n",
       " 0.09038443118333817,\n",
       " 0.09414578229188919,\n",
       " 0.08832632750272751,\n",
       " 0.0867086872458458,\n",
       " 0.08645697683095932,\n",
       " 0.08343483507633209,\n",
       " 0.08266308903694153,\n",
       " 0.0770239606499672,\n",
       " 0.0785403773188591,\n",
       " 0.07568706572055817,\n",
       " 0.07558971643447876]"
      ]
     },
     "execution_count": 23,
     "metadata": {},
     "output_type": "execute_result"
    }
   ],
   "source": [
    "history.history['loss']"
   ]
  },
  {
   "cell_type": "code",
   "execution_count": 24,
   "id": "0470ffd5",
   "metadata": {},
   "outputs": [
    {
     "data": {
      "image/png": "[encoded data removed]",
      "text/plain": [
       "<Figure size 576x288 with 2 Axes>"
      ]
     },
     "metadata": {
      "needs_background": "light"
     },
     "output_type": "display_data"
    }
   ],
   "source": [
    "#store 50 in epochs variable as we ran 50 epochs\n",
    "epochs = 50\n",
    "acc = history.history['accuracy']\n",
    "val_acc = history.history['val_accuracy']\n",
    "\n",
    "loss = history.history['loss']\n",
    "val_loss = history.history['val_loss']\n",
    "\n",
    "#create a range from 1-50\n",
    "epochs_range = range(epochs)\n",
    "\n",
    "#plot subplots for the training and test/validation accuracy and loss\n",
    "plt.figure(figsize=(8, 4))\n",
    "plt.subplot(1, 2, 1)\n",
    "plt.plot(epochs_range, acc, label='Training Accuracy')\n",
    "plt.plot(epochs_range, val_acc, label='Validation Accuracy')\n",
    "plt.legend(loc=0)\n",
    "plt.title('Training and Validation Accuracy')\n",
    "\n",
    "plt.subplot(1, 2, 2)\n",
    "plt.plot(epochs_range, loss, label='Training Loss')\n",
    "plt.plot(epochs_range, val_loss, label='Validation Loss')\n",
    "plt.legend(loc=0)\n",
    "plt.title('Training and Validation Loss')\n",
    "plt.show()\n",
    "#This is a over fit model"
   ]
  },
  {
   "cell_type": "code",
   "execution_count": 25,
   "id": "1a280794",
   "metadata": {},
   "outputs": [
    {
     "name": "stdout",
     "output_type": "stream",
     "text": [
      "Model: \"sequential_1\"\n",
      "_________________________________________________________________\n",
      "Layer (type)                 Output Shape              Param #   \n",
      "=================================================================\n",
      "flatten_1 (Flatten)          (None, 784)               0         \n",
      "_________________________________________________________________\n",
      "dense_2 (Dense)              (None, 512)               401920    \n",
      "_________________________________________________________________\n",
      "dense_3 (Dense)              (None, 10)                5130      \n",
      "=================================================================\n",
      "Total params: 407,050\n",
      "Trainable params: 407,050\n",
      "Non-trainable params: 0\n",
      "_________________________________________________________________\n"
     ]
    }
   ],
   "source": [
    "# Early Stopping\n",
    "model_new = keras.Sequential([\n",
    "    keras.layers.Flatten(input_shape=(28, 28)),\n",
    "    keras.layers.Dense(512, activation='relu'),\n",
    "    keras.layers.Dense(10,'softmax')])\n",
    "model_new.summary()"
   ]
  },
  {
   "cell_type": "code",
   "execution_count": null,
   "id": "75fb6a5e",
   "metadata": {},
   "outputs": [
    {
     "name": "stdout",
     "output_type": "stream",
     "text": [
      "Epoch 1/50\n",
      "1500/1500 [==============================] - 8s 5ms/step - loss: 0.4902 - accuracy: 0.8253 - val_loss: 0.4029 - val_accuracy: 0.8591\n",
      "Epoch 2/50\n",
      "1500/1500 [==============================] - 7s 5ms/step - loss: 0.3665 - accuracy: 0.8655 - val_loss: 0.3755 - val_accuracy: 0.8629\n",
      "Epoch 3/50\n",
      "1500/1500 [==============================] - 8s 5ms/step - loss: 0.3301 - accuracy: 0.8790 - val_loss: 0.3725 - val_accuracy: 0.8687\n",
      "Epoch 4/50\n",
      "1500/1500 [==============================] - 7s 5ms/step - loss: 0.3062 - accuracy: 0.8862 - val_loss: 0.3611 - val_accuracy: 0.8665\n",
      "Epoch 5/50\n",
      "1500/1500 [==============================] - 7s 5ms/step - loss: 0.2859 - accuracy: 0.8942 - val_loss: 0.3193 - val_accuracy: 0.8826\n",
      "Epoch 6/50\n",
      "1500/1500 [==============================] - 7s 5ms/step - loss: 0.2695 - accuracy: 0.8998 - val_loss: 0.3199 - val_accuracy: 0.8854\n",
      "Epoch 7/50\n",
      "1500/1500 [==============================] - 7s 5ms/step - loss: 0.2559 - accuracy: 0.9038 - val_loss: 0.3270 - val_accuracy: 0.8824\n",
      "Epoch 8/50\n",
      "1500/1500 [==============================] - 7s 5ms/step - loss: 0.2434 - accuracy: 0.9079 - val_loss: 0.3093 - val_accuracy: 0.8903\n",
      "Epoch 9/50\n",
      "1500/1500 [==============================] - 7s 5ms/step - loss: 0.2329 - accuracy: 0.9109 - val_loss: 0.3207 - val_accuracy: 0.8882\n",
      "Epoch 10/50\n",
      "1500/1500 [==============================] - 7s 5ms/step - loss: 0.2216 - accuracy: 0.9157 - val_loss: 0.3162 - val_accuracy: 0.8905\n",
      "Epoch 11/50\n",
      "1500/1500 [==============================] - 7s 5ms/step - loss: 0.2138 - accuracy: 0.9187 - val_loss: 0.3241 - val_accuracy: 0.8874\n",
      "Epoch 12/50\n",
      "1500/1500 [==============================] - 8s 5ms/step - loss: 0.2066 - accuracy: 0.9230 - val_loss: 0.3082 - val_accuracy: 0.8923\n",
      "Epoch 13/50\n",
      "1500/1500 [==============================] - 7s 5ms/step - loss: 0.2002 - accuracy: 0.9245 - val_loss: 0.3143 - val_accuracy: 0.8950\n",
      "Epoch 14/50\n",
      "1500/1500 [==============================] - 8s 5ms/step - loss: 0.1900 - accuracy: 0.9284 - val_loss: 0.3213 - val_accuracy: 0.8947\n",
      "Epoch 15/50\n",
      "1500/1500 [==============================] - 7s 5ms/step - loss: 0.1850 - accuracy: 0.9313 - val_loss: 0.3519 - val_accuracy: 0.8863\n",
      "Epoch 16/50\n",
      "1500/1500 [==============================] - 8s 5ms/step - loss: 0.1799 - accuracy: 0.9331 - val_loss: 0.3360 - val_accuracy: 0.8876\n",
      "Epoch 17/50\n",
      "1500/1500 [==============================] - 7s 5ms/step - loss: 0.1738 - accuracy: 0.9348 - val_loss: 0.3374 - val_accuracy: 0.8875\n",
      "Epoch 18/50\n",
      "1500/1500 [==============================] - 7s 5ms/step - loss: 0.1676 - accuracy: 0.9369 - val_loss: 0.3297 - val_accuracy: 0.8950\n",
      "Epoch 19/50\n",
      "1500/1500 [==============================] - 7s 5ms/step - loss: 0.1614 - accuracy: 0.9397 - val_loss: 0.3347 - val_accuracy: 0.8935\n",
      "Epoch 20/50\n",
      "1500/1500 [==============================] - 7s 5ms/step - loss: 0.1555 - accuracy: 0.9420 - val_loss: 0.3436 - val_accuracy: 0.8913\n",
      "Epoch 21/50\n",
      "1228/1500 [=======================>......] - ETA: 1s - loss: 0.1490 - accuracy: 0.9447"
     ]
    }
   ],
   "source": [
    "model_new.compile(optimizer='adam',\n",
    "              loss=\"sparse_categorical_crossentropy\",\n",
    "              metrics=['accuracy'])\n",
    "callback = keras.callbacks.EarlyStopping(monitor='val_loss',patience=10)\n",
    "history = model_new.fit(train_images, train_labels, epochs=50, validation_split=0.2,callbacks=callback,verbose=1)"
   ]
  },
  {
   "cell_type": "code",
   "execution_count": null,
   "id": "56bb0c2c",
   "metadata": {},
   "outputs": [],
   "source": [
    "epochs = 17\n",
    "acc = history.history['accuracy']\n",
    "val_acc = history.history['val_accuracy']\n",
    "loss = history.history['loss']\n",
    "val_loss = history.history['val_loss']\n",
    "\n",
    "epochs_range = range(epochs)"
   ]
  },
  {
   "cell_type": "code",
   "execution_count": null,
   "id": "79adcec9",
   "metadata": {},
   "outputs": [],
   "source": [
    "plt.figure(figsize=(8, 4))\n",
    "plt.subplot(1, 2, 1)\n",
    "plt.plot(epochs_range, acc, label='Training Accuracy')\n",
    "plt.plot(epochs_range, val_acc, label='Validation Accuracy')\n",
    "plt.legend(loc=0)\n",
    "plt.title('Training and Validation Accuracy')\n",
    "\n",
    "plt.subplot(1, 2, 2)\n",
    "plt.plot(epochs_range, loss, label='Training Loss')\n",
    "plt.plot(epochs_range, val_loss, label='Validation Loss')\n",
    "plt.legend(loc=0)\n",
    "plt.title('Training and Validation Loss')\n",
    "plt.show()"
   ]
  },
  {
   "cell_type": "code",
   "execution_count": null,
   "id": "36a192eb",
   "metadata": {},
   "outputs": [],
   "source": []
  }
 ],
 "metadata": {
  "kernelspec": {
   "display_name": "Python 3",
   "language": "python",
   "name": "python3"
  },
  "language_info": {
   "codemirror_mode": {
    "name": "ipython",
    "version": 3
   },
   "file_extension": ".py",
   "mimetype": "text/x-python",
   "name": "python",
   "nbconvert_exporter": "python",
   "pygments_lexer": "ipython3",
   "version": "3.6.13"
  }
 },
 "nbformat": 4,
 "nbformat_minor": 5
}
